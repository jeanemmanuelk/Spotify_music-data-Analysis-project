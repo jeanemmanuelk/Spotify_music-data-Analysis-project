{
 "cells": [
  {
   "cell_type": "code",
   "execution_count": 5,
   "id": "4b159b29",
   "metadata": {},
   "outputs": [
    {
     "name": "stdout",
     "output_type": "stream",
     "text": [
      "[]\n"
     ]
    }
   ],
   "source": [
    "import requests\n",
    "from bs4 import BeautifulSoup\n",
    "\n",
    "url = \"https://www.indeed.com/salaries/Data-Analyst-Salaries\"\n",
    "\n",
    "response = requests.get(url)\n",
    "\n",
    "html_data = response.text\n",
    "\n",
    "soup = BeautifulSoup(html_data, \"html.parser\")\n",
    "\n",
    "salaries = []\n",
    "\n",
    "for salary_info in soup.find_all(\"td\", class_=\"slSalary\"):\n",
    "    salary = salary_info.text.strip()\n",
    "    salaries.append(salary)\n",
    "\n",
    "print(salaries)"
   ]
  },
  {
   "cell_type": "code",
   "execution_count": null,
   "id": "ac6b06a5",
   "metadata": {},
   "outputs": [],
   "source": []
  }
 ],
 "metadata": {
  "kernelspec": {
   "display_name": "Python 3 (ipykernel)",
   "language": "python",
   "name": "python3"
  },
  "language_info": {
   "codemirror_mode": {
    "name": "ipython",
    "version": 3
   },
   "file_extension": ".py",
   "mimetype": "text/x-python",
   "name": "python",
   "nbconvert_exporter": "python",
   "pygments_lexer": "ipython3",
   "version": "3.9.13"
  }
 },
 "nbformat": 4,
 "nbformat_minor": 5
}
